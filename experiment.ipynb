{
 "cells": [
  {
   "cell_type": "code",
   "execution_count": null,
   "metadata": {},
   "outputs": [],
   "source": [
    "from split_texts import SplitterConfig, main as split_texts_main\n",
    "from generate_folds import FoldsConfig, main as folds_main\n",
    "from train_word2vec import Word2VecConfig, main as train_main"
   ]
  },
  {
   "cell_type": "code",
   "execution_count": null,
   "metadata": {},
   "outputs": [],
   "source": [
    "# Hyperparams\n",
    "\n",
    "n_folds = 3\n",
    "embedding_dim = 300\n",
    "context = 2\n",
    "epochs = 5\n",
    "lr = 1e-3\n",
    "batch_size = 5\n",
    "device = \"cpu\""
   ]
  },
  {
   "cell_type": "code",
   "execution_count": null,
   "metadata": {},
   "outputs": [],
   "source": [
    "splitter_config = SplitterConfig()\n",
    "split_texts_main(splitter_config)"
   ]
  },
  {
   "cell_type": "code",
   "execution_count": null,
   "metadata": {},
   "outputs": [],
   "source": [
    "folds_config = FoldsConfig()\n",
    "folds_config.n_folds = n_folds\n",
    "folds_main(folds_config)"
   ]
  },
  {
   "cell_type": "code",
   "execution_count": null,
   "metadata": {},
   "outputs": [],
   "source": [
    "train_config = Word2VecConfig()\n",
    "train_config.embedding_dim = embedding_dim\n",
    "train_config.context = context\n",
    "train_config.epochs = epochs\n",
    "train_config.lr = lr\n",
    "train_config.batch_size = batch_size\n",
    "train_config.device = device\n",
    "train_main(train_config)"
   ]
  }
 ],
 "metadata": {
  "interpreter": {
   "hash": "2ba83d101db9b378c45ea09cde412a7372d788434a188f8521f74bc8eb83df91"
  },
  "kernelspec": {
   "display_name": "Python 3.9.7 ('w2vm')",
   "language": "python",
   "name": "python3"
  },
  "language_info": {
   "codemirror_mode": {
    "name": "ipython",
    "version": 3
   },
   "file_extension": ".py",
   "mimetype": "text/x-python",
   "name": "python",
   "nbconvert_exporter": "python",
   "pygments_lexer": "ipython3",
   "version": "3.9.7"
  },
  "orig_nbformat": 4
 },
 "nbformat": 4,
 "nbformat_minor": 2
}
