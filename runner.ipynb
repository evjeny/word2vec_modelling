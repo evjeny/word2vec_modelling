{
 "cells": [
  {
   "cell_type": "markdown",
   "metadata": {},
   "source": [
    "## Install dependencies"
   ]
  },
  {
   "cell_type": "code",
   "execution_count": null,
   "metadata": {},
   "outputs": [],
   "source": [
    "!git clone https://github.com/evjeny/word2vec_modelling\n",
    "%cd word2vec_modelling"
   ]
  },
  {
   "cell_type": "code",
   "execution_count": null,
   "metadata": {},
   "outputs": [],
   "source": [
    "!add-apt-repository -y ppa:deadsnakes/ppa\n",
    "!apt-get -y update\n",
    "!apt-get -y install python3.9\n",
    "!apt-get -y install python3.9-dev"
   ]
  },
  {
   "cell_type": "code",
   "execution_count": null,
   "metadata": {},
   "outputs": [],
   "source": [
    "!sudo apt install python3.9-distutils\n",
    "!wget https://bootstrap.pypa.io/get-pip.py && python3.9 get-pip.py"
   ]
  },
  {
   "cell_type": "code",
   "execution_count": null,
   "metadata": {},
   "outputs": [],
   "source": [
    "import sys\n",
    "\n",
    "sys.path[2] = '/usr/lib/python39.zip'\n",
    "sys.path[3] = '/usr/lib/python3.9'\n",
    "sys.path[4] = '/usr/lib/python3.9/lib-dynload'\n",
    "sys.path[5] = '/usr/local/lib/python3.9/dist-packages'\n",
    "sys.path[7] ='/usr/local/lib/python3.9/dist-packages/IPython/extensions'"
   ]
  },
  {
   "cell_type": "code",
   "execution_count": null,
   "metadata": {},
   "outputs": [],
   "source": [
    "!python3.9 -m pip install -r requirements.txt"
   ]
  },
  {
   "cell_type": "markdown",
   "metadata": {},
   "source": [
    "## Run scripts"
   ]
  },
  {
   "cell_type": "markdown",
   "metadata": {},
   "source": [
    "!python3.9 split_texts.py"
   ]
  },
  {
   "cell_type": "code",
   "execution_count": null,
   "metadata": {},
   "outputs": [],
   "source": [
    "!python3.9 generate_folds.py --n_folds 3"
   ]
  },
  {
   "cell_type": "code",
   "execution_count": null,
   "metadata": {},
   "outputs": [],
   "source": [
    "!python3.9 train_word2vec.py --device cuda --batch_size 10"
   ]
  }
 ],
 "metadata": {
  "language_info": {
   "name": "python"
  },
  "orig_nbformat": 4
 },
 "nbformat": 4,
 "nbformat_minor": 2
}
